{
 "cells": [
  {
   "cell_type": "markdown",
   "metadata": {
    "id": "NyHIGVhfa_Wf"
   },
   "source": [
    "# Стохастический градиентный и координатный спуски"
   ]
  },
  {
   "cell_type": "markdown",
   "metadata": {
    "id": "gn6lluIADUKa"
   },
   "source": [
    "Для каждого задания указано количество баллов (если они оцениваются отдельно) + 1 балл за аккуратное и полное выполнение всего задания"
   ]
  },
  {
   "cell_type": "markdown",
   "metadata": {
    "id": "txCccYvha_Wv"
   },
   "source": [
    "## Загрузка и подготовка данных"
   ]
  },
  {
   "cell_type": "markdown",
   "metadata": {
    "id": "NbyOzeZ6a_Wx"
   },
   "source": [
    "**Загрузите уже знакомый вам файл *Advertising.csv* как объект DataFrame.** "
   ]
  },
  {
   "cell_type": "code",
   "execution_count": null,
   "metadata": {
    "id": "E1L4_xeDa_Wz"
   },
   "outputs": [],
   "source": [
    "#ваш код \n",
    "import numpy as np\n",
    "import pandas as pd\n",
    "df = pd.read_csv('Advertising.csv', delimiter=',')\n",
    "df"
   ]
  },
  {
   "cell_type": "markdown",
   "metadata": {
    "id": "bf4aVFndDUKf"
   },
   "source": [
    "**Проверьте, есть ли в данных пропуски и, если они есть - удалите их**"
   ]
  },
  {
   "cell_type": "code",
   "execution_count": 4,
   "metadata": {
    "colab": {
     "base_uri": "https://localhost:8080/"
    },
    "id": "tiVeFnR5DUKg",
    "outputId": "f22b7fbf-c650-415f-ee29-bcea34fb0f90"
   },
   "outputs": [
    {
     "data": {
      "text/plain": [
       "False"
      ]
     },
     "execution_count": 4,
     "metadata": {},
     "output_type": "execute_result"
    }
   ],
   "source": [
    "#ваш код\n",
    "df.isnull().any().any()"
   ]
  },
  {
   "cell_type": "markdown",
   "metadata": {
    "id": "rTkiqPr_DUKh"
   },
   "source": [
    "**Преобразуйте ваши признаки в массивы NumPy и разделите их на переменные X (предикторы) и y(целевая переменная)** "
   ]
  },
  {
   "cell_type": "code",
   "execution_count": null,
   "metadata": {
    "id": "im8F8N1HCTJc"
   },
   "outputs": [],
   "source": []
  },
  {
   "cell_type": "code",
   "execution_count": 23,
   "metadata": {
    "id": "R9OHIRB3a_Xa"
   },
   "outputs": [],
   "source": [
    "#ваш код\n",
    "x = df[['TV', 'radio', 'newspaper']].to_numpy()\n",
    "\n",
    "y = df['sales'].to_numpy()"
   ]
  },
  {
   "cell_type": "markdown",
   "metadata": {
    "id": "KCvjSoHEDUKo"
   },
   "source": [
    "## Координатный спуск (3 балла)"
   ]
  },
  {
   "cell_type": "markdown",
   "metadata": {
    "id": "yjNm8dATDUKq"
   },
   "source": [
    "**Добавим единичный столбец для того, чтобы у нас был свободный коэффициент в уравнении регрессии:**"
   ]
  },
  {
   "cell_type": "code",
   "execution_count": 27,
   "metadata": {
    "id": "LMgq0fmKDUKr"
   },
   "outputs": [],
   "source": [
    "import numpy as np\n",
    "X = np.hstack([np.ones(x.shape[0]).reshape(-1, 1), x])"
   ]
  },
  {
   "cell_type": "markdown",
   "metadata": {
    "id": "R008OQwcDUKt"
   },
   "source": [
    "**Нормализуем данные: обычно это необходимо для корректной работы алгоритма**"
   ]
  },
  {
   "cell_type": "code",
   "execution_count": 28,
   "metadata": {
    "id": "2Sk7Wx-SDUKt"
   },
   "outputs": [],
   "source": [
    "X = X / np.sqrt(np.sum(np.square(X), axis=0))\n"
   ]
  },
  {
   "cell_type": "markdown",
   "metadata": {
    "id": "F_pHHbAdDUKu"
   },
   "source": [
    "**Реализуйте алгоритм координатного спуска:** (3 балла)\n",
    "\n",
    "Ниже приведен алгоритм:"
   ]
  },
  {
   "cell_type": "markdown",
   "metadata": {
    "id": "jBQ8vT5UDUKu"
   },
   "source": [
    "<a href=\"https://ibb.co/Th3BQFn\"><img src=\"https://i.ibb.co/DK2DBS6/zascas.jpg\" alt=\"zascas\" border=\"0\"></a>"
   ]
  },
  {
   "cell_type": "markdown",
   "metadata": {
    "id": "5ce_yM20DUKv"
   },
   "source": [
    "Примечание: 1000 итераций здесь указаны для этого задания, на самом деле их может быть намного больше, нет детерменированного значения."
   ]
  },
  {
   "cell_type": "markdown",
   "metadata": {
    "id": "y3IdiHm9DUKv"
   },
   "source": [
    "Вам необходимо реализовать координатный спуск, и вывести веса в модели линейной регрессии."
   ]
  },
  {
   "cell_type": "code",
   "execution_count": null,
   "metadata": {
    "id": "Vsi3d9OfDUKw"
   },
   "outputs": [],
   "source": [
    "#ваш код\n",
    "w = np.zeros(X.shape[1])\n",
    " \n",
    "for iteration in range(1000):\n",
    "    r = y - X.dot(w)\n",
    "    for j in range(len(w)):\n",
    "        r = r + X[:, j] * w[j]\n",
    "        w[j] = X[:, j].dot(r)\n",
    "        r = r - X[:, j] * w[j]\n",
    " \n",
    "print(w)"
   ]
  },
  {
   "cell_type": "markdown",
   "metadata": {
    "id": "a3jG-7UADUKx"
   },
   "source": [
    "Сравните результаты с реализацией линейной регрессии из библиотеки sklearn:"
   ]
  },
  {
   "cell_type": "code",
   "execution_count": null,
   "metadata": {
    "id": "SBl-1Yb5DUKy"
   },
   "outputs": [],
   "source": [
    "from sklearn.linear_model import LinearRegression\n",
    " \n",
    "model = LinearRegression(fit_intercept=False)\n",
    "model.fit(X, y)\n",
    " \n",
    "print(model.coef_)"
   ]
  },
  {
   "cell_type": "markdown",
   "metadata": {
    "id": "hIl0AGLyDUKy"
   },
   "source": [
    "Если вы все сделали верно, они должны практически совпасть!"
   ]
  },
  {
   "cell_type": "markdown",
   "metadata": {
    "id": "VCGwFnPdDUKz"
   },
   "source": [
    "## Стохастический градиентный спуск (6 баллов)"
   ]
  },
  {
   "cell_type": "markdown",
   "metadata": {
    "id": "5u7Q2YJla_Xk"
   },
   "source": [
    "**Отмасштабируйте столбцы исходной матрицы *X* (которую мы не нормализовали еще!). Для того, чтобы это сделать, надо вычесть из каждого значения среднее и разделить на стандартное отклонение** (0.5 баллов)"
   ]
  },
  {
   "cell_type": "code",
   "execution_count": null,
   "metadata": {
    "id": "8HjDmE1OQTHD"
   },
   "outputs": [],
   "source": []
  },
  {
   "cell_type": "code",
   "execution_count": 34,
   "metadata": {
    "id": "9cEpV_5La_Xo"
   },
   "outputs": [],
   "source": [
    "#ваш код \n",
    "\n",
    "X1 = (x - np.mean(x)) / np.std(x)\n"
   ]
  },
  {
   "cell_type": "markdown",
   "metadata": {
    "id": "8WkNYILHDUK1"
   },
   "source": [
    "**Добавим единичный столбец**"
   ]
  },
  {
   "cell_type": "code",
   "execution_count": 35,
   "metadata": {
    "id": "EVl5tEGtDUK1"
   },
   "outputs": [],
   "source": [
    "X1 = np.hstack([np.ones(X1.shape[0]).reshape(-1, 1), X1])"
   ]
  },
  {
   "cell_type": "markdown",
   "metadata": {
    "id": "m53tZA5fDUK1"
   },
   "source": [
    "**Создайте функцию mse_error для вычисления среднеквадратичной ошибки, принимающую два аргумента: реальные значения и предсказывающие, и возвращающую значение mse** (0.5 балла)"
   ]
  },
  {
   "cell_type": "code",
   "execution_count": 57,
   "metadata": {
    "id": "0cvtC08Aa_YK"
   },
   "outputs": [],
   "source": [
    "#ваш код\n",
    "def mse_error(actual, predicted):\n",
    "    differences = np.subtract(actual, predicted)\n",
    "    squared_differences = np.square(differences)\n",
    "    return squared_differences.mean()\n"
   ]
  },
  {
   "cell_type": "markdown",
   "metadata": {
    "id": "lpOLhdvBDUK2"
   },
   "source": [
    "**Сделайте наивный прогноз: предскажите продажи средним значением. После этого рассчитайте среднеквадратичную ошибку для этого прогноза** (0.5 балла)"
   ]
  },
  {
   "cell_type": "code",
   "execution_count": null,
   "metadata": {
    "id": "kLV_XljVa_YZ"
   },
   "outputs": [],
   "source": [
    "#ваш код\n",
    "train=y[0:180]\n",
    "test=y[180:]\n",
    "predicted = np.array([1, 2, 3, 4, 5, 6, 7, 8, 9, 10, 11, 12, 13, 14, 15 ,16 ,17, 18, 19, 20])\n",
    "predicted[...] = np.mean(y)\n",
    "mse_error(test, predicted)\n",
    "\n"
   ]
  },
  {
   "cell_type": "markdown",
   "metadata": {
    "id": "BbybL2ola_ZM"
   },
   "source": [
    "**Создайте функцию *lin_pred*, которая может по матрице предикторов *X* и вектору весов линейной модели *w* получить вектор прогнозов** (0.5 балла)"
   ]
  },
  {
   "cell_type": "code",
   "execution_count": null,
   "metadata": {
    "id": "1Cyz-Luaa_ZO"
   },
   "outputs": [],
   "source": [
    "import random\n",
    "#функция инициации дополнительных переменных\n",
    "def initialize(dim): \n",
    "  b = np.random.rand()\n",
    "  theta=np.random.rand(dim)\n",
    "  return b,theta\n",
    "b,theta=initialize(5)\n",
    "\n",
    "print('Bias: ',b,'Weights: ',theta)\n",
    "#написание функции\n",
    "def lin_pred(b,theta,X): \n",
    "  return b + np.dot(X,theta)\n",
    "\n",
    "\n"
   ]
  },
  {
   "cell_type": "markdown",
   "metadata": {
    "id": "BU4adBrya_Zm"
   },
   "source": [
    "**Создайте функцию *stoch_grad_step* для реализации шага стохастического градиентного спуска. (1.5 балла) \n",
    "Функция должна принимать на вход следующие аргументы:**\n",
    "* матрицу *X*\n",
    "* вектора *y* и *w*\n",
    "* число *train_ind* - индекс объекта обучающей выборки (строки матрицы *X*), по которому считается изменение весов\n",
    "* число *$\\eta$* (eta) - шаг градиентного спуска\n",
    "\n",
    "Результатом будет вектор обновленных весов"
   ]
  },
  {
   "cell_type": "markdown",
   "metadata": {
    "id": "dyLY-P02DUK5"
   },
   "source": [
    "Шаг для стохастического градиентного спуска выглядит следующим образом:"
   ]
  },
  {
   "cell_type": "markdown",
   "metadata": {
    "id": "ORsAyIKNDUK5"
   },
   "source": [
    "$$\\Large w_j \\leftarrow w_j - \\frac{2\\eta}{\\ell} \\sum_{i=1}^\\ell{{x_{ij}((w_0 + w_1x_{i1} + w_2x_{i2} +  w_3x_{i3}) - y_i)}}$$"
   ]
  },
  {
   "cell_type": "markdown",
   "metadata": {
    "id": "CQl2FrpuDUK6"
   },
   "source": [
    "Для того, чтобы написать функцию, нужно сделать следующее:\n",
    "    \n",
    "*  посчитать направление изменения: умножить объект обучающей выборки на 2 и на разницу между предсказанным значением и реальным, а потом поделить на количество элементов в выборке.\n",
    "* вернуть разницу между вектором весов и направлением изменения, умноженным на шаг градиентного спуска"
   ]
  },
  {
   "cell_type": "code",
   "execution_count": null,
   "metadata": {
    "id": "YUhVQGsja_Zn"
   },
   "outputs": [],
   "source": [
    "#ваш код\n",
    "#функция затрат для дальнейшего анализа\n",
    "import math\n",
    "def get_cost(Y,Y_hat):\n",
    "  Y_resd=Y-Y_hat\n",
    "  return np.sum(np.dot(Y_resd.T,Y_resd))/len(Y-Y_resd)\n",
    "\n",
    "Y_hat=lin_pred(b,theta,X1)\n",
    "\n",
    "get_cost(y,Y_hat)\n",
    "\n",
    "#Обновим тета для демонстрации изменчивости\n",
    "\n",
    "def stoch_grad_step(x,y,y_hat,b_0,theta_o,learning_rate):\n",
    "  db=(np.sum(y_hat-y)*2)/len(y)\n",
    "  dw=(np.dot((y_hat-y),x)*2)/len(y)\n",
    "  b_1=b_0-learning_rate*db\n",
    "  theta_1=theta_o-learning_rate*dw\n",
    "  return b_1,theta_1\n",
    "\n",
    "print(\"After initialization -Bias: \",b,\"theta: \",theta)\n",
    "\n",
    "Y_hat=lin_pred(b,theta,X1)\n",
    "\n",
    "b,theta=stoch_grad_step(X,y,Y_hat,b,theta,0.01)\n",
    "\n",
    "print(\"After first update -Bias: \",b,\"theta: \",theta)\n",
    "\n",
    "get_cost(y,Y_hat)"
   ]
  },
  {
   "cell_type": "markdown",
   "metadata": {
    "id": "pXwIFd0Ma_Zx"
   },
   "source": [
    "**Создайте функцию *stochastic_gradient_descent*, для реализации стохастического градиентного спуска (2.5 балла)**\n",
    "\n",
    "**Функция принимает на вход следующие аргументы:**\n",
    "- Матрицу признаков X\n",
    "- Целевую переменнную\n",
    "- Изначальную точку (веса модели)\n",
    "- Параметр, определяющий темп обучения\n",
    "- Максимальное число итераций\n",
    "- Евклидово расстояние между векторами весов на соседних итерациях градиентного спуска,при котором алгоритм прекращает работу \n",
    "\n",
    "**На каждой итерации в вектор (список) должно записываться текущее значение среднеквадратичной ошибки. Функция должна возвращать вектор весов $w$, а также вектор (список) ошибок.**"
   ]
  },
  {
   "cell_type": "markdown",
   "metadata": {
    "id": "ZVeoNF1JDUK7"
   },
   "source": [
    "Алгоритм сследующий:\n",
    "    \n",
    "* Инициализируйте расстояние между векторами весов на соседних итерациях большим числом (можно бесконечностью)\n",
    "* Создайте пустой список для фиксации ошибок\n",
    "* Создайте счетчик итераций\n",
    "* Реализуйте оновной цикл обучения пока расстояние между векторами весов больше того, при котором надо прекратить работу (когда расстояния станут слишком маленькими - значит, мы застряли в одном месте) и количество итераций меньше максимально разрешенного: сгенерируйте случайный индекс, запишите текущую ошибку в вектор ошибок, запишите в переменную текущий шаг стохастического спуска с использованием функции, написанной ранее. Далее рассчитайте текущее расстояние между векторами весов и прибавьте к счетчику итераций 1.\n",
    "* Верните вектор весов и вектор ошибок"
   ]
  },
  {
   "cell_type": "code",
   "execution_count": null,
   "metadata": {
    "id": "CD_xcFNfa_Zy"
   },
   "outputs": [],
   "source": [
    "# ваш код\n",
    "def stochastic_gradient_descent(X, Y, alpha, num_iterations):\n",
    "  b,theta=initialize(X.shape[1])\n",
    "  gd_iterations_df=pd.DataFrame(columns=['iteration','cost'])\n",
    "  for i in range(num_iterations):\n",
    "      Y_hat = lin_pred(b,theta,X)\n",
    "      this_cost = get_cost(Y,Y_hat)\n",
    "      prev_b = b\n",
    "      prev_theta = theta\n",
    "      b,theta = stoch_grad_step(X,Y,Y_hat,prev_b,prev_theta,alpha)\n",
    "      if i % 10==0:\n",
    "         print('Iteration: ', i, 'Cost: ', this_cost)\n",
    "         i += 1\n",
    "         return gd_iterations_df,b,theta\n",
    "print('Final Estimate of b and theta : ',b,theta) \n",
    "\n",
    "gd_iterations_df,b,theta=stochastic_gradient_descent(X1,y,0.001,num_iterations=100)\n"
   ]
  },
  {
   "cell_type": "markdown",
   "metadata": {
    "id": "0OqHO1Rta_Z7"
   },
   "source": [
    " **Запустите $10^5$ итераций стохастического градиентного спуска. Укажите вектор начальных весов, состоящий из нулей. Можете поэкспериментировать с параметром, отвечающим за темп обучения.**"
   ]
  },
  {
   "cell_type": "markdown",
   "metadata": {
    "id": "N6fHHT6vDUK8"
   },
   "source": [
    "**Постройте график зависимости ошибки от номера итерации**"
   ]
  },
  {
   "cell_type": "code",
   "execution_count": null,
   "metadata": {
    "id": "zsSfHDzLDUK9"
   },
   "outputs": [],
   "source": [
    "import matplotlib.pyplot as plt\n",
    "# ваш код\n",
    "%matplotlib inline\n",
    "alpha_df_1,b,theta=stochastic_gradient_descent(X,Y,alpha=0.01,num_iterations=10000)\n",
    "alpha_df_2,b,theta=stochastic_gradient_descent(X,Y,alpha=0.001,num_iterations=10000)\n",
    "plt.plot(alpha_df_1['iteration'],alpha_df_1['cost'],label='alpha=0.01')\n",
    "plt.plot(alpha_df_2['iteration'],alpha_df_2['cost'],label='alpha=0.001')\n",
    "plt.legend()\n",
    "plt.ylabel('Ошибка')\n",
    "plt.xlabel('Номер итерации')\n",
    "plt.title('Ошибка VS. Номер итерации')\n"
   ]
  },
  {
   "cell_type": "markdown",
   "metadata": {
    "id": "O-MVOcJ6a_aY"
   },
   "source": [
    "**Выведите вектор весов, к которому сошелся метод.**"
   ]
  },
  {
   "cell_type": "code",
   "execution_count": null,
   "metadata": {
    "id": "iSKom_TRvQgO"
   },
   "outputs": [],
   "source": []
  },
  {
   "cell_type": "code",
   "execution_count": 200,
   "metadata": {
    "id": "MPjVkXe4DUK9"
   },
   "outputs": [],
   "source": [
    "# ваш код\n",
    "gd_iterations_df[99990:100000]\n",
    "b_new = 0.16248876587930222\n",
    "theta_new = np.array([0.59323308, 0.10119546, 0.13143591, 0.65597268, 0.28990577])"
   ]
  },
  {
   "cell_type": "markdown",
   "metadata": {
    "id": "qabzMc3Qa_a5"
   },
   "source": [
    "**Выведите среднеквадратичную ошибку на последней итерации.**"
   ]
  },
  {
   "cell_type": "code",
   "execution_count": null,
   "metadata": {
    "id": "7tPWleMIa_a7"
   },
   "outputs": [],
   "source": [
    "# ваш код\n",
    "y_pred = lin_pred(b_new, theta_new, X1)\n",
    "mse_error(y, y_pred)"
   ]
  }
 ],
 "metadata": {
  "colab": {
   "provenance": []
  },
  "kernelspec": {
   "display_name": "Python 3 (ipykernel)",
   "language": "python",
   "name": "python3"
  },
  "language_info": {
   "codemirror_mode": {
    "name": "ipython",
    "version": 3
   },
   "file_extension": ".py",
   "mimetype": "text/x-python",
   "name": "python",
   "nbconvert_exporter": "python",
   "pygments_lexer": "ipython3",
   "version": "3.9.13"
  }
 },
 "nbformat": 4,
 "nbformat_minor": 1
}
